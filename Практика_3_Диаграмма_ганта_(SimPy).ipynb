{
  "nbformat": 4,
  "nbformat_minor": 0,
  "metadata": {
    "colab": {
      "provenance": [],
      "toc_visible": true,
      "include_colab_link": true
    },
    "kernelspec": {
      "name": "python3",
      "display_name": "Python 3"
    },
    "language_info": {
      "name": "python"
    }
  },
  "cells": [
    {
      "cell_type": "markdown",
      "metadata": {
        "id": "view-in-github",
        "colab_type": "text"
      },
      "source": [
        "<a href=\"https://colab.research.google.com/github/AShipulin/Train-Scheduler-Simulator-SimPy/blob/main/%D0%9F%D1%80%D0%B0%D0%BA%D1%82%D0%B8%D0%BA%D0%B0_3_%D0%94%D0%B8%D0%B0%D0%B3%D1%80%D0%B0%D0%BC%D0%BC%D0%B0_%D0%B3%D0%B0%D0%BD%D1%82%D0%B0_(SimPy).ipynb\" target=\"_parent\"><img src=\"https://colab.research.google.com/assets/colab-badge.svg\" alt=\"Open In Colab\"/></a>"
      ]
    },
    {
      "cell_type": "markdown",
      "source": [
        "# Установка SimPy"
      ],
      "metadata": {
        "id": "Dp5HisRjAYL7"
      }
    },
    {
      "cell_type": "code",
      "execution_count": null,
      "metadata": {
        "colab": {
          "base_uri": "https://localhost:8080/"
        },
        "id": "lBEDbk4iAPjG",
        "outputId": "b216634b-ac89-4187-c3a7-137f921c8322"
      },
      "outputs": [
        {
          "output_type": "stream",
          "name": "stdout",
          "text": [
            "Requirement already satisfied: simpy in /usr/local/lib/python3.10/dist-packages (4.1.1)\n"
          ]
        }
      ],
      "source": [
        "!pip install -U simpy"
      ]
    },
    {
      "cell_type": "markdown",
      "source": [
        "## Первая модель\n",
        "\n",
        "SimPy — это Python фреймворк для процессо-ориентированной дискретно-событийной системы моделирования. Он был разработан для создания асинхронных сетей и мультиагентных систем, как с моделируемым, так и с реальным взаимодействием."
      ],
      "metadata": {
        "id": "oeF5YdrBAnNC"
      }
    },
    {
      "cell_type": "code",
      "source": [
        "# Импортировать библиотеку simpy\n",
        "import simpy"
      ],
      "metadata": {
        "id": "ze-2LRNsBf6O"
      },
      "execution_count": null,
      "outputs": []
    },
    {
      "cell_type": "code",
      "source": [
        "# Функция выполнения операций по заявке\n",
        "def order(env):\n",
        "\n",
        "    # Выполнение\n",
        "\n",
        "    print(f'{env.now:2.0f}, Мониторинг прибытия груж. конт.*')\n",
        "    yield env.timeout(10)\n",
        "\n",
        "    print(f'{env.now:2.0f}, Добавление конт. в дисп. график')\n",
        "    yield env.timeout(3)\n",
        "\n",
        "    print(f'{env.now:2.0f}, Уведомление о прибытии конт. клиента')\n",
        "    yield env.timeout(1)"
      ],
      "metadata": {
        "id": "186krLPtAsfK"
      },
      "execution_count": null,
      "outputs": []
    },
    {
      "cell_type": "code",
      "source": [
        "# Иницилизация среды выпполнения имитационной модели\n",
        "env = simpy.Environment(initial_time=0)\n",
        "\n",
        "# В среду выполнения помещаем процесс с заявкой\n",
        "env.process(order(env))\n",
        "\n",
        "# Запускаме моделирование на 100 минут\n",
        "env.run(until=100)"
      ],
      "metadata": {
        "colab": {
          "base_uri": "https://localhost:8080/"
        },
        "id": "iamV8ToABekA",
        "outputId": "f21cb53c-ec9e-4d23-df36-d0cb6fd42cc8"
      },
      "execution_count": null,
      "outputs": [
        {
          "output_type": "stream",
          "name": "stdout",
          "text": [
            " 0, Мониторинг прибытия груж. конт.*\n",
            "10, Добавление конт. в дисп. график\n",
            "13, Уведомление о прибытии конт. клиента\n"
          ]
        }
      ]
    },
    {
      "cell_type": "markdown",
      "source": [
        "## Выполним три заявки"
      ],
      "metadata": {
        "id": "tYjR9q9hm9y8"
      }
    },
    {
      "cell_type": "code",
      "source": [
        "# Иницилизация среды выпполнения имитационной модели\n",
        "env = simpy.Environment(initial_time=0)\n",
        "\n",
        "# В среду выполнения помещаем три процесса\n",
        "p1 = env.process(order(env))\n",
        "p2 = env.process(order(env))\n",
        "p2 = env.process(order(env))\n",
        "\n",
        "# Запускаме моделирование на 100 минут\n",
        "env.run(until=50)"
      ],
      "metadata": {
        "colab": {
          "base_uri": "https://localhost:8080/"
        },
        "id": "o52AM8K_CmZ-",
        "outputId": "4671c6a3-db68-43ac-f482-1308c5421210"
      },
      "execution_count": null,
      "outputs": [
        {
          "output_type": "stream",
          "name": "stdout",
          "text": [
            " 0, Мониторинг прибытия груж. конт.*\n",
            " 0, Мониторинг прибытия груж. конт.*\n",
            " 0, Мониторинг прибытия груж. конт.*\n",
            "10, Добавление конт. в дисп. график\n",
            "10, Добавление конт. в дисп. график\n",
            "10, Добавление конт. в дисп. график\n",
            "13, Уведомление о прибытии конт. клиента\n",
            "13, Уведомление о прибытии конт. клиента\n",
            "13, Уведомление о прибытии конт. клиента\n"
          ]
        }
      ]
    },
    {
      "cell_type": "markdown",
      "source": [
        "## Доработаем заявку"
      ],
      "metadata": {
        "id": "MAXcifgKB9RP"
      }
    },
    {
      "cell_type": "code",
      "source": [
        "def oper(env, order, oper, wait, dur):\n",
        "    # Ждем запуска\n",
        "    yield env.timeout(wait)\n",
        "    # Выполнение\n",
        "    put = env.now # Время помещения в очередь\n",
        "    yield env.timeout(dur)\n",
        "    print(f'{put:2.0f}, {env.now:2.0f}, {order}, {oper} - {dur}')\n",
        "\n",
        "def order(env, order, wait):\n",
        "    # Ждем запуска\n",
        "    yield env.timeout(wait)\n",
        "    # Выполняем операции\n",
        "    yield env.process(oper(env, order, 'Мониторинг прибытия груж. конт.*', 0, 10))\n",
        "    yield env.process(oper(env, order, 'Добавление конт. в дисп. график', 0, 3))\n",
        "    yield env.process(oper(env, order, 'Уведомление о прибытии конт. клиента', 0, 1))"
      ],
      "metadata": {
        "id": "wj-umjXQCAty"
      },
      "execution_count": null,
      "outputs": []
    },
    {
      "cell_type": "code",
      "source": [
        "# Иницилизация среды выпполнения имитационной модели\n",
        "env = simpy.Environment(initial_time=0)\n",
        "\n",
        "# В среду выполнения помещаем три процесса\n",
        "p1 = env.process(order(env, \"Заявка 1\", 0))\n",
        "p2 = env.process(order(env, \"Заявка 2\", 5))\n",
        "p3 = env.process(order(env, \"Заявка 3\", 10))\n",
        "\n",
        "# Запускаме моделирование на 100 минут\n",
        "env.run(until=50)"
      ],
      "metadata": {
        "colab": {
          "base_uri": "https://localhost:8080/"
        },
        "id": "jDZjv813GKa6",
        "outputId": "56f6b290-ba5d-4979-86a7-e35ec004d38b"
      },
      "execution_count": null,
      "outputs": [
        {
          "output_type": "stream",
          "name": "stdout",
          "text": [
            " 0, 10, Заявка 1, Мониторинг прибытия груж. конт.* - 10\n",
            "10, 13, Заявка 1, Добавление конт. в дисп. график - 3\n",
            "13, 14, Заявка 1, Уведомление о прибытии конт. клиента - 1\n",
            " 5, 15, Заявка 2, Мониторинг прибытия груж. конт.* - 10\n",
            "15, 18, Заявка 2, Добавление конт. в дисп. график - 3\n",
            "18, 19, Заявка 2, Уведомление о прибытии конт. клиента - 1\n",
            "10, 20, Заявка 3, Мониторинг прибытия груж. конт.* - 10\n",
            "20, 23, Заявка 3, Добавление конт. в дисп. график - 3\n",
            "23, 24, Заявка 3, Уведомление о прибытии конт. клиента - 1\n"
          ]
        }
      ]
    },
    {
      "cell_type": "markdown",
      "source": [
        "## Добавим ресурс\n"
      ],
      "metadata": {
        "id": "61F5X4XX9CYE"
      }
    },
    {
      "cell_type": "code",
      "source": [
        "def oper(env, manager, order, oper, wait, dur):\n",
        "    # Ждем запуска\n",
        "    yield env.timeout(wait)\n",
        "    # Выполнение\n",
        "    put = env.now # Время помещения в очередь\n",
        "    with manager.request() as req: # Запрос особождения ресурса\n",
        "        yield req              # Ждем осовбождение ресурса\n",
        "        beg = env.now          # Начало выполнения\n",
        "        delay = beg - put      # Задержка\n",
        "        yield env.timeout(dur) # Время выполнения\n",
        "        end = env.now          # Завершение выполнения\n",
        "        print(f'{put:2.0f}, {beg:2.0f}, {end:2.0f}, {delay}, {len(manager.queue)}, {order}, {oper} - {dur}')\n",
        "\n",
        "def order(env, manager, order, wait):\n",
        "    # Ждем запуска\n",
        "    yield env.timeout(wait)\n",
        "    # Выполняем операции\n",
        "    yield env.process(oper(env, manager, order, 'Мониторинг прибытия груж. конт.*', 0, 10))\n",
        "    yield env.process(oper(env, manager, order, 'Добавление конт. в дисп. график', 0, 3))\n",
        "    yield env.process(oper(env, manager, order, 'Уведомление о прибытии конт. клиента', 0, 1))"
      ],
      "metadata": {
        "id": "NafRnb6HHpmQ"
      },
      "execution_count": null,
      "outputs": []
    },
    {
      "cell_type": "code",
      "source": [
        "# Иницилизация среды выпполнения имитационной модели\n",
        "env = simpy.Environment(initial_time=0)\n",
        "\n",
        "# Создаем ресурс - менеджер\n",
        "num_managers = 1 # число менеджеров (взимо заменяемых)\n",
        "manager = simpy.PriorityResource(env, num_managers)\n",
        "\n",
        "# В среду выполнения помещаем три процесса\n",
        "p1 = env.process(order(env, manager, \"Заявка 1\", 0))\n",
        "p2 = env.process(order(env, manager, \"Заявка 2\", 5))\n",
        "p3 = env.process(order(env, manager, \"Заявка 3\", 10))\n",
        "\n",
        "# Запускаме моделирование на 100 минут\n",
        "env.run(until=50)"
      ],
      "metadata": {
        "colab": {
          "base_uri": "https://localhost:8080/"
        },
        "id": "f4j05YgBITPa",
        "outputId": "3d80e6f8-49b7-4a84-f30e-142acb6c7651"
      },
      "execution_count": null,
      "outputs": [
        {
          "output_type": "stream",
          "name": "stdout",
          "text": [
            " 0,  0, 10, 0, 1, Заявка 1, Мониторинг прибытия груж. конт.* - 10\n",
            " 5, 10, 20, 5, 2, Заявка 2, Мониторинг прибытия груж. конт.* - 10\n",
            "10, 20, 30, 10, 2, Заявка 3, Мониторинг прибытия груж. конт.* - 10\n",
            "10, 30, 33, 20, 2, Заявка 1, Добавление конт. в дисп. график - 3\n",
            "20, 33, 36, 13, 2, Заявка 2, Добавление конт. в дисп. график - 3\n",
            "30, 36, 39, 6, 2, Заявка 3, Добавление конт. в дисп. график - 3\n",
            "33, 39, 40, 6, 2, Заявка 1, Уведомление о прибытии конт. клиента - 1\n",
            "36, 40, 41, 4, 1, Заявка 2, Уведомление о прибытии конт. клиента - 1\n",
            "39, 41, 42, 2, 0, Заявка 3, Уведомление о прибытии конт. клиента - 1\n"
          ]
        }
      ]
    },
    {
      "cell_type": "markdown",
      "source": [
        "## Добавим логи"
      ],
      "metadata": {
        "id": "tBayi5ZsI81B"
      }
    },
    {
      "cell_type": "code",
      "source": [
        "def oper(env, manager, order, oper, wait, dur):\n",
        "    # Ждем запуска\n",
        "    yield env.timeout(wait)\n",
        "    # Выполнение\n",
        "    put = env.now # Время помещения в очередь\n",
        "    with manager.request() as req: # Запрос особождения ресурса\n",
        "        yield req              # Ждем осовбождение ресурса\n",
        "        beg = env.now          # Начало выполнения\n",
        "        delay = beg - put      # Задержка\n",
        "        yield env.timeout(dur) # Время выполнения\n",
        "        end = env.now          # Завершение выполнения\n",
        "        #print(f'{put:2.0f}, {beg:2.0f}, {end:2.0f}, {delay}, {len(manager.queue)}, {order}, {oper} - {dur}')\n",
        "        # Логи выполнения\n",
        "        data_log.append([put, beg, end, delay, len(manager.queue), order, oper])\n",
        "\n",
        "def order(env, manager, order, wait):\n",
        "    # Ждем запуска\n",
        "    yield env.timeout(wait)\n",
        "    # Выполняем операции\n",
        "    yield env.process(oper(env, manager, order, '1. Мониторинг прибытия груж. конт.*', 0, 10))\n",
        "    yield env.process(oper(env, manager, order, '2. Добавление конт. в дисп. график', 0, 3))\n",
        "    yield env.process(oper(env, manager, order, '3. Уведомление о прибытии конт. клиента', 0, 1))"
      ],
      "metadata": {
        "id": "gCgeMYNyJWWU"
      },
      "execution_count": null,
      "outputs": []
    },
    {
      "cell_type": "code",
      "source": [
        "# Иницилизация среды выпполнения имитационной модели\n",
        "env = simpy.Environment(initial_time=0)\n",
        "\n",
        "# Создаем ресурс - менеджер\n",
        "num_managers = 2 # число менеджеров (взимо заменяемых)\n",
        "manager = simpy.PriorityResource(env, num_managers)\n",
        "\n",
        "# В среду выполнения помещаем три процесса\n",
        "p1 = env.process(order(env, manager, \"Заявка 1\", 0))\n",
        "p2 = env.process(order(env, manager, \"Заявка 2\", 5))\n",
        "p3 = env.process(order(env, manager, \"Заявка 3\", 10))\n",
        "\n",
        "# Лог\n",
        "data_log = []\n",
        "\n",
        "# Запускаме моделирование на 100 минут\n",
        "env.run(until=50)\n",
        "\n",
        "# Печать лога\n",
        "data_log"
      ],
      "metadata": {
        "colab": {
          "base_uri": "https://localhost:8080/"
        },
        "id": "uXViPLSbHyr_",
        "outputId": "08736078-ff78-4f39-84d9-fff482faff81"
      },
      "execution_count": null,
      "outputs": [
        {
          "output_type": "execute_result",
          "data": {
            "text/plain": [
              "[[0, 0, 10, 0, 0, 'Заявка 1', '1. Мониторинг прибытия груж. конт.*'],\n",
              " [5, 5, 15, 0, 1, 'Заявка 2', '1. Мониторинг прибытия груж. конт.*'],\n",
              " [10, 15, 18, 5, 1, 'Заявка 1', '2. Добавление конт. в дисп. график'],\n",
              " [10, 10, 20, 0, 1, 'Заявка 3', '1. Мониторинг прибытия груж. конт.*'],\n",
              " [15, 18, 21, 3, 1, 'Заявка 2', '2. Добавление конт. в дисп. график'],\n",
              " [18, 20, 21, 2, 1, 'Заявка 1', '3. Уведомление о прибытии конт. клиента'],\n",
              " [21, 21, 22, 0, 0, 'Заявка 2', '3. Уведомление о прибытии конт. клиента'],\n",
              " [20, 21, 24, 1, 0, 'Заявка 3', '2. Добавление конт. в дисп. график'],\n",
              " [24, 24, 25, 0, 0, 'Заявка 3', '3. Уведомление о прибытии конт. клиента']]"
            ]
          },
          "metadata": {},
          "execution_count": 209
        }
      ]
    },
    {
      "cell_type": "markdown",
      "source": [
        "## Научимся читать логи"
      ],
      "metadata": {
        "id": "i9kR7UPJM0Jb"
      }
    },
    {
      "cell_type": "markdown",
      "source": [
        "Для это испольуем билиотеку pandas"
      ],
      "metadata": {
        "id": "kcCVoRilNslL"
      }
    },
    {
      "cell_type": "code",
      "source": [
        "import pandas as pd # библиотека для работы с данными\n",
        "pd.DataFrame(data_log, columns=[\"put\", \"beg\", \"end\", \"delay\", \"queue\", \"order\", \"oper\"])"
      ],
      "metadata": {
        "colab": {
          "base_uri": "https://localhost:8080/",
          "height": 332
        },
        "id": "qzFCYbzhMsgG",
        "outputId": "45e82a0e-dea6-4452-fe97-d07eb70c944d"
      },
      "execution_count": null,
      "outputs": [
        {
          "output_type": "execute_result",
          "data": {
            "text/plain": [
              "   put  beg  end  delay  queue     order  \\\n",
              "0    0    0   10      0      0  Заявка 1   \n",
              "1    5    5   15      0      1  Заявка 2   \n",
              "2   10   15   18      5      1  Заявка 1   \n",
              "3   10   10   20      0      1  Заявка 3   \n",
              "4   15   18   21      3      1  Заявка 2   \n",
              "5   18   20   21      2      1  Заявка 1   \n",
              "6   21   21   22      0      0  Заявка 2   \n",
              "7   20   21   24      1      0  Заявка 3   \n",
              "8   24   24   25      0      0  Заявка 3   \n",
              "\n",
              "                                      oper  \n",
              "0      1. Мониторинг прибытия груж. конт.*  \n",
              "1      1. Мониторинг прибытия груж. конт.*  \n",
              "2       2. Добавление конт. в дисп. график  \n",
              "3      1. Мониторинг прибытия груж. конт.*  \n",
              "4       2. Добавление конт. в дисп. график  \n",
              "5  3. Уведомление о прибытии конт. клиента  \n",
              "6  3. Уведомление о прибытии конт. клиента  \n",
              "7       2. Добавление конт. в дисп. график  \n",
              "8  3. Уведомление о прибытии конт. клиента  "
            ],
            "text/html": [
              "\n",
              "  <div id=\"df-dba1436f-21ab-4fee-9016-392f90f27266\" class=\"colab-df-container\">\n",
              "    <div>\n",
              "<style scoped>\n",
              "    .dataframe tbody tr th:only-of-type {\n",
              "        vertical-align: middle;\n",
              "    }\n",
              "\n",
              "    .dataframe tbody tr th {\n",
              "        vertical-align: top;\n",
              "    }\n",
              "\n",
              "    .dataframe thead th {\n",
              "        text-align: right;\n",
              "    }\n",
              "</style>\n",
              "<table border=\"1\" class=\"dataframe\">\n",
              "  <thead>\n",
              "    <tr style=\"text-align: right;\">\n",
              "      <th></th>\n",
              "      <th>put</th>\n",
              "      <th>beg</th>\n",
              "      <th>end</th>\n",
              "      <th>delay</th>\n",
              "      <th>queue</th>\n",
              "      <th>order</th>\n",
              "      <th>oper</th>\n",
              "    </tr>\n",
              "  </thead>\n",
              "  <tbody>\n",
              "    <tr>\n",
              "      <th>0</th>\n",
              "      <td>0</td>\n",
              "      <td>0</td>\n",
              "      <td>10</td>\n",
              "      <td>0</td>\n",
              "      <td>0</td>\n",
              "      <td>Заявка 1</td>\n",
              "      <td>1. Мониторинг прибытия груж. конт.*</td>\n",
              "    </tr>\n",
              "    <tr>\n",
              "      <th>1</th>\n",
              "      <td>5</td>\n",
              "      <td>5</td>\n",
              "      <td>15</td>\n",
              "      <td>0</td>\n",
              "      <td>1</td>\n",
              "      <td>Заявка 2</td>\n",
              "      <td>1. Мониторинг прибытия груж. конт.*</td>\n",
              "    </tr>\n",
              "    <tr>\n",
              "      <th>2</th>\n",
              "      <td>10</td>\n",
              "      <td>15</td>\n",
              "      <td>18</td>\n",
              "      <td>5</td>\n",
              "      <td>1</td>\n",
              "      <td>Заявка 1</td>\n",
              "      <td>2. Добавление конт. в дисп. график</td>\n",
              "    </tr>\n",
              "    <tr>\n",
              "      <th>3</th>\n",
              "      <td>10</td>\n",
              "      <td>10</td>\n",
              "      <td>20</td>\n",
              "      <td>0</td>\n",
              "      <td>1</td>\n",
              "      <td>Заявка 3</td>\n",
              "      <td>1. Мониторинг прибытия груж. конт.*</td>\n",
              "    </tr>\n",
              "    <tr>\n",
              "      <th>4</th>\n",
              "      <td>15</td>\n",
              "      <td>18</td>\n",
              "      <td>21</td>\n",
              "      <td>3</td>\n",
              "      <td>1</td>\n",
              "      <td>Заявка 2</td>\n",
              "      <td>2. Добавление конт. в дисп. график</td>\n",
              "    </tr>\n",
              "    <tr>\n",
              "      <th>5</th>\n",
              "      <td>18</td>\n",
              "      <td>20</td>\n",
              "      <td>21</td>\n",
              "      <td>2</td>\n",
              "      <td>1</td>\n",
              "      <td>Заявка 1</td>\n",
              "      <td>3. Уведомление о прибытии конт. клиента</td>\n",
              "    </tr>\n",
              "    <tr>\n",
              "      <th>6</th>\n",
              "      <td>21</td>\n",
              "      <td>21</td>\n",
              "      <td>22</td>\n",
              "      <td>0</td>\n",
              "      <td>0</td>\n",
              "      <td>Заявка 2</td>\n",
              "      <td>3. Уведомление о прибытии конт. клиента</td>\n",
              "    </tr>\n",
              "    <tr>\n",
              "      <th>7</th>\n",
              "      <td>20</td>\n",
              "      <td>21</td>\n",
              "      <td>24</td>\n",
              "      <td>1</td>\n",
              "      <td>0</td>\n",
              "      <td>Заявка 3</td>\n",
              "      <td>2. Добавление конт. в дисп. график</td>\n",
              "    </tr>\n",
              "    <tr>\n",
              "      <th>8</th>\n",
              "      <td>24</td>\n",
              "      <td>24</td>\n",
              "      <td>25</td>\n",
              "      <td>0</td>\n",
              "      <td>0</td>\n",
              "      <td>Заявка 3</td>\n",
              "      <td>3. Уведомление о прибытии конт. клиента</td>\n",
              "    </tr>\n",
              "  </tbody>\n",
              "</table>\n",
              "</div>\n",
              "    <div class=\"colab-df-buttons\">\n",
              "\n",
              "  <div class=\"colab-df-container\">\n",
              "    <button class=\"colab-df-convert\" onclick=\"convertToInteractive('df-dba1436f-21ab-4fee-9016-392f90f27266')\"\n",
              "            title=\"Convert this dataframe to an interactive table.\"\n",
              "            style=\"display:none;\">\n",
              "\n",
              "  <svg xmlns=\"http://www.w3.org/2000/svg\" height=\"24px\" viewBox=\"0 -960 960 960\">\n",
              "    <path d=\"M120-120v-720h720v720H120Zm60-500h600v-160H180v160Zm220 220h160v-160H400v160Zm0 220h160v-160H400v160ZM180-400h160v-160H180v160Zm440 0h160v-160H620v160ZM180-180h160v-160H180v160Zm440 0h160v-160H620v160Z\"/>\n",
              "  </svg>\n",
              "    </button>\n",
              "\n",
              "  <style>\n",
              "    .colab-df-container {\n",
              "      display:flex;\n",
              "      gap: 12px;\n",
              "    }\n",
              "\n",
              "    .colab-df-convert {\n",
              "      background-color: #E8F0FE;\n",
              "      border: none;\n",
              "      border-radius: 50%;\n",
              "      cursor: pointer;\n",
              "      display: none;\n",
              "      fill: #1967D2;\n",
              "      height: 32px;\n",
              "      padding: 0 0 0 0;\n",
              "      width: 32px;\n",
              "    }\n",
              "\n",
              "    .colab-df-convert:hover {\n",
              "      background-color: #E2EBFA;\n",
              "      box-shadow: 0px 1px 2px rgba(60, 64, 67, 0.3), 0px 1px 3px 1px rgba(60, 64, 67, 0.15);\n",
              "      fill: #174EA6;\n",
              "    }\n",
              "\n",
              "    .colab-df-buttons div {\n",
              "      margin-bottom: 4px;\n",
              "    }\n",
              "\n",
              "    [theme=dark] .colab-df-convert {\n",
              "      background-color: #3B4455;\n",
              "      fill: #D2E3FC;\n",
              "    }\n",
              "\n",
              "    [theme=dark] .colab-df-convert:hover {\n",
              "      background-color: #434B5C;\n",
              "      box-shadow: 0px 1px 3px 1px rgba(0, 0, 0, 0.15);\n",
              "      filter: drop-shadow(0px 1px 2px rgba(0, 0, 0, 0.3));\n",
              "      fill: #FFFFFF;\n",
              "    }\n",
              "  </style>\n",
              "\n",
              "    <script>\n",
              "      const buttonEl =\n",
              "        document.querySelector('#df-dba1436f-21ab-4fee-9016-392f90f27266 button.colab-df-convert');\n",
              "      buttonEl.style.display =\n",
              "        google.colab.kernel.accessAllowed ? 'block' : 'none';\n",
              "\n",
              "      async function convertToInteractive(key) {\n",
              "        const element = document.querySelector('#df-dba1436f-21ab-4fee-9016-392f90f27266');\n",
              "        const dataTable =\n",
              "          await google.colab.kernel.invokeFunction('convertToInteractive',\n",
              "                                                    [key], {});\n",
              "        if (!dataTable) return;\n",
              "\n",
              "        const docLinkHtml = 'Like what you see? Visit the ' +\n",
              "          '<a target=\"_blank\" href=https://colab.research.google.com/notebooks/data_table.ipynb>data table notebook</a>'\n",
              "          + ' to learn more about interactive tables.';\n",
              "        element.innerHTML = '';\n",
              "        dataTable['output_type'] = 'display_data';\n",
              "        await google.colab.output.renderOutput(dataTable, element);\n",
              "        const docLink = document.createElement('div');\n",
              "        docLink.innerHTML = docLinkHtml;\n",
              "        element.appendChild(docLink);\n",
              "      }\n",
              "    </script>\n",
              "  </div>\n",
              "\n",
              "\n",
              "<div id=\"df-d8f73c85-7bf2-4032-bc31-3740bf03bdfb\">\n",
              "  <button class=\"colab-df-quickchart\" onclick=\"quickchart('df-d8f73c85-7bf2-4032-bc31-3740bf03bdfb')\"\n",
              "            title=\"Suggest charts\"\n",
              "            style=\"display:none;\">\n",
              "\n",
              "<svg xmlns=\"http://www.w3.org/2000/svg\" height=\"24px\"viewBox=\"0 0 24 24\"\n",
              "     width=\"24px\">\n",
              "    <g>\n",
              "        <path d=\"M19 3H5c-1.1 0-2 .9-2 2v14c0 1.1.9 2 2 2h14c1.1 0 2-.9 2-2V5c0-1.1-.9-2-2-2zM9 17H7v-7h2v7zm4 0h-2V7h2v10zm4 0h-2v-4h2v4z\"/>\n",
              "    </g>\n",
              "</svg>\n",
              "  </button>\n",
              "\n",
              "<style>\n",
              "  .colab-df-quickchart {\n",
              "      --bg-color: #E8F0FE;\n",
              "      --fill-color: #1967D2;\n",
              "      --hover-bg-color: #E2EBFA;\n",
              "      --hover-fill-color: #174EA6;\n",
              "      --disabled-fill-color: #AAA;\n",
              "      --disabled-bg-color: #DDD;\n",
              "  }\n",
              "\n",
              "  [theme=dark] .colab-df-quickchart {\n",
              "      --bg-color: #3B4455;\n",
              "      --fill-color: #D2E3FC;\n",
              "      --hover-bg-color: #434B5C;\n",
              "      --hover-fill-color: #FFFFFF;\n",
              "      --disabled-bg-color: #3B4455;\n",
              "      --disabled-fill-color: #666;\n",
              "  }\n",
              "\n",
              "  .colab-df-quickchart {\n",
              "    background-color: var(--bg-color);\n",
              "    border: none;\n",
              "    border-radius: 50%;\n",
              "    cursor: pointer;\n",
              "    display: none;\n",
              "    fill: var(--fill-color);\n",
              "    height: 32px;\n",
              "    padding: 0;\n",
              "    width: 32px;\n",
              "  }\n",
              "\n",
              "  .colab-df-quickchart:hover {\n",
              "    background-color: var(--hover-bg-color);\n",
              "    box-shadow: 0 1px 2px rgba(60, 64, 67, 0.3), 0 1px 3px 1px rgba(60, 64, 67, 0.15);\n",
              "    fill: var(--button-hover-fill-color);\n",
              "  }\n",
              "\n",
              "  .colab-df-quickchart-complete:disabled,\n",
              "  .colab-df-quickchart-complete:disabled:hover {\n",
              "    background-color: var(--disabled-bg-color);\n",
              "    fill: var(--disabled-fill-color);\n",
              "    box-shadow: none;\n",
              "  }\n",
              "\n",
              "  .colab-df-spinner {\n",
              "    border: 2px solid var(--fill-color);\n",
              "    border-color: transparent;\n",
              "    border-bottom-color: var(--fill-color);\n",
              "    animation:\n",
              "      spin 1s steps(1) infinite;\n",
              "  }\n",
              "\n",
              "  @keyframes spin {\n",
              "    0% {\n",
              "      border-color: transparent;\n",
              "      border-bottom-color: var(--fill-color);\n",
              "      border-left-color: var(--fill-color);\n",
              "    }\n",
              "    20% {\n",
              "      border-color: transparent;\n",
              "      border-left-color: var(--fill-color);\n",
              "      border-top-color: var(--fill-color);\n",
              "    }\n",
              "    30% {\n",
              "      border-color: transparent;\n",
              "      border-left-color: var(--fill-color);\n",
              "      border-top-color: var(--fill-color);\n",
              "      border-right-color: var(--fill-color);\n",
              "    }\n",
              "    40% {\n",
              "      border-color: transparent;\n",
              "      border-right-color: var(--fill-color);\n",
              "      border-top-color: var(--fill-color);\n",
              "    }\n",
              "    60% {\n",
              "      border-color: transparent;\n",
              "      border-right-color: var(--fill-color);\n",
              "    }\n",
              "    80% {\n",
              "      border-color: transparent;\n",
              "      border-right-color: var(--fill-color);\n",
              "      border-bottom-color: var(--fill-color);\n",
              "    }\n",
              "    90% {\n",
              "      border-color: transparent;\n",
              "      border-bottom-color: var(--fill-color);\n",
              "    }\n",
              "  }\n",
              "</style>\n",
              "\n",
              "  <script>\n",
              "    async function quickchart(key) {\n",
              "      const quickchartButtonEl =\n",
              "        document.querySelector('#' + key + ' button');\n",
              "      quickchartButtonEl.disabled = true;  // To prevent multiple clicks.\n",
              "      quickchartButtonEl.classList.add('colab-df-spinner');\n",
              "      try {\n",
              "        const charts = await google.colab.kernel.invokeFunction(\n",
              "            'suggestCharts', [key], {});\n",
              "      } catch (error) {\n",
              "        console.error('Error during call to suggestCharts:', error);\n",
              "      }\n",
              "      quickchartButtonEl.classList.remove('colab-df-spinner');\n",
              "      quickchartButtonEl.classList.add('colab-df-quickchart-complete');\n",
              "    }\n",
              "    (() => {\n",
              "      let quickchartButtonEl =\n",
              "        document.querySelector('#df-d8f73c85-7bf2-4032-bc31-3740bf03bdfb button');\n",
              "      quickchartButtonEl.style.display =\n",
              "        google.colab.kernel.accessAllowed ? 'block' : 'none';\n",
              "    })();\n",
              "  </script>\n",
              "</div>\n",
              "    </div>\n",
              "  </div>\n"
            ],
            "application/vnd.google.colaboratory.intrinsic+json": {
              "type": "dataframe",
              "summary": "{\n  \"name\": \"pd\",\n  \"rows\": 9,\n  \"fields\": [\n    {\n      \"column\": \"put\",\n      \"properties\": {\n        \"dtype\": \"number\",\n        \"std\": 7,\n        \"min\": 0,\n        \"max\": 24,\n        \"num_unique_values\": 8,\n        \"samples\": [\n          5,\n          21,\n          0\n        ],\n        \"semantic_type\": \"\",\n        \"description\": \"\"\n      }\n    },\n    {\n      \"column\": \"beg\",\n      \"properties\": {\n        \"dtype\": \"number\",\n        \"std\": 8,\n        \"min\": 0,\n        \"max\": 24,\n        \"num_unique_values\": 8,\n        \"samples\": [\n          5,\n          20,\n          0\n        ],\n        \"semantic_type\": \"\",\n        \"description\": \"\"\n      }\n    },\n    {\n      \"column\": \"end\",\n      \"properties\": {\n        \"dtype\": \"number\",\n        \"std\": 4,\n        \"min\": 10,\n        \"max\": 25,\n        \"num_unique_values\": 8,\n        \"samples\": [\n          15,\n          22,\n          10\n        ],\n        \"semantic_type\": \"\",\n        \"description\": \"\"\n      }\n    },\n    {\n      \"column\": \"delay\",\n      \"properties\": {\n        \"dtype\": \"number\",\n        \"std\": 1,\n        \"min\": 0,\n        \"max\": 5,\n        \"num_unique_values\": 5,\n        \"samples\": [\n          5,\n          1,\n          3\n        ],\n        \"semantic_type\": \"\",\n        \"description\": \"\"\n      }\n    },\n    {\n      \"column\": \"queue\",\n      \"properties\": {\n        \"dtype\": \"number\",\n        \"std\": 0,\n        \"min\": 0,\n        \"max\": 1,\n        \"num_unique_values\": 2,\n        \"samples\": [\n          1,\n          0\n        ],\n        \"semantic_type\": \"\",\n        \"description\": \"\"\n      }\n    },\n    {\n      \"column\": \"order\",\n      \"properties\": {\n        \"dtype\": \"category\",\n        \"num_unique_values\": 3,\n        \"samples\": [\n          \"\\u0417\\u0430\\u044f\\u0432\\u043a\\u0430 1\",\n          \"\\u0417\\u0430\\u044f\\u0432\\u043a\\u0430 2\"\n        ],\n        \"semantic_type\": \"\",\n        \"description\": \"\"\n      }\n    },\n    {\n      \"column\": \"oper\",\n      \"properties\": {\n        \"dtype\": \"category\",\n        \"num_unique_values\": 3,\n        \"samples\": [\n          \"1. \\u041c\\u043e\\u043d\\u0438\\u0442\\u043e\\u0440\\u0438\\u043d\\u0433 \\u043f\\u0440\\u0438\\u0431\\u044b\\u0442\\u0438\\u044f \\u0433\\u0440\\u0443\\u0436. \\u043a\\u043e\\u043d\\u0442.*\",\n          \"2. \\u0414\\u043e\\u0431\\u0430\\u0432\\u043b\\u0435\\u043d\\u0438\\u0435 \\u043a\\u043e\\u043d\\u0442. \\u0432 \\u0434\\u0438\\u0441\\u043f. \\u0433\\u0440\\u0430\\u0444\\u0438\\u043a\"\n        ],\n        \"semantic_type\": \"\",\n        \"description\": \"\"\n      }\n    }\n  ]\n}"
            }
          },
          "metadata": {},
          "execution_count": 214
        }
      ]
    },
    {
      "cell_type": "markdown",
      "source": [
        "## Построим график в ручную"
      ],
      "metadata": {
        "id": "91Z6VmoXnIPz"
      }
    },
    {
      "cell_type": "code",
      "source": [
        "import matplotlib.pyplot as plt\n",
        "\n",
        "# Создаим пустой график\n",
        "fig, ax = plt.subplots(1, 1, figsize=(5, 3))\n",
        "\n",
        "# Добавим на график линии\n",
        "ax.plot([0,5], [0, 0], lw=20, alpha=0.9)\n",
        "ax.plot([5,10], [1, 1], lw=20, alpha=0.9)\n",
        "ax.plot([10,15], [2, 2], lw=20, alpha=0.9)\n",
        "\n",
        "# Подпишем\n",
        "ax.set_title(\"Диаграмма Ганта\")"
      ],
      "metadata": {
        "colab": {
          "base_uri": "https://localhost:8080/",
          "height": 331
        },
        "id": "pDbOZMX5Sr8Q",
        "outputId": "93c94dd0-21d0-494b-924c-39e14bf3400f"
      },
      "execution_count": null,
      "outputs": [
        {
          "output_type": "execute_result",
          "data": {
            "text/plain": [
              "Text(0.5, 1.0, 'Диаграмма Ганта')"
            ]
          },
          "metadata": {},
          "execution_count": 258
        },
        {
          "output_type": "display_data",
          "data": {
            "text/plain": [
              "<Figure size 500x300 with 1 Axes>"
            ],
            "image/png": "[encoded data removed]"
          },
          "metadata": {}
        }
      ]
    },
    {
      "cell_type": "markdown",
      "source": [
        "## Построим график на основе данных"
      ],
      "metadata": {
        "id": "nNokEq9zV-cp"
      }
    },
    {
      "cell_type": "code",
      "source": [
        "import numpy as np # линейная алгебра\n",
        "import matplotlib.pyplot as plt\n",
        "from matplotlib.lines import Line2D\n",
        "\n",
        "def gant(df_data, lw=5, lh=3):\n",
        "\n",
        "    # Добавлем колоноки в data_log\n",
        "    df_data = pd.DataFrame(data_log, columns=[\"put\", \"beg\", \"end\", \"delay\", \"queue\", \"order\", \"oper\"])\n",
        "    df_data[\"index\"] = df_data[[\"order\", \"oper\"]].apply(lambda x: \", \".join(x), axis=1)\n",
        "\n",
        "    ## Состави список заяок, операций\n",
        "    orders = sorted(list(set(df_data[\"order\"])))\n",
        "    opers = sorted(list(set(df_data[\"oper\"])))\n",
        "\n",
        "    # Переичлим цвета для операций\n",
        "    colors = []\n",
        "    for i in enumerate(opers):\n",
        "        colors.append(f\"C{i[0]}\")\n",
        "\n",
        "    # Добавим график\n",
        "    fig, ax = plt.subplots(1, 1, figsize=(lw, lh))\n",
        "\n",
        "    # График с заявками\n",
        "    for j, order in enumerate(orders): # для каждой заявки\n",
        "        for i, oper in enumerate(opers): # для каждого события\n",
        "            # Нанесем на график начальную и конечную точки операции\n",
        "            for k in df_data[(df_data[\"order\"]==order) & (df_data[\"oper\"]==oper)].index:\n",
        "                    ax.plot([df_data[\"beg\"][k], df_data[\"end\"][k]], [j, j],\n",
        "                             colors[i], solid_capstyle=\"butt\", lw=20, alpha=0.9)\n",
        "\n",
        "\n",
        "    lines = [Line2D([0], [0], lw=lw, color=colors[i]) for i in range(len(opers))]\n",
        "    ax.legend(lines, opers, bbox_to_anchor=(1.05, 1.0), loc=\"upper left\")\n",
        "\n",
        "    ax.set_title(\"Диаграмма Ганта\")\n",
        "    ax.set_yticks(range(len(orders)))\n",
        "    ax.set_yticklabels(orders)\n",
        "\n",
        "gant(data_log)"
      ],
      "metadata": {
        "colab": {
          "base_uri": "https://localhost:8080/",
          "height": 314
        },
        "id": "LTrLJYdG2Nfq",
        "outputId": "3e0c46e1-fe19-4a13-d390-215ffb6b5318"
      },
      "execution_count": null,
      "outputs": [
        {
          "output_type": "display_data",
          "data": {
            "text/plain": [
              "<Figure size 500x300 with 1 Axes>"
            ],
            "image/png": "[encoded data removed]"
          },
          "metadata": {}
        }
      ]
    },
    {
      "cell_type": "markdown",
      "source": [
        "## Добавим время"
      ],
      "metadata": {
        "id": "T0Xfm-N1QRRj"
      }
    },
    {
      "cell_type": "code",
      "source": [
        "import numpy as np # линейная алгебра\n",
        "import matplotlib.pyplot as plt\n",
        "import matplotlib.ticker as ticker\n",
        "from matplotlib.dates import HourLocator, DateFormatter\n",
        "from matplotlib.lines import Line2D\n",
        "from datetime import datetime\n",
        "\n",
        "def gant(df_data, lw=8, lh=3):\n",
        "\n",
        "    g = 0\n",
        "    fig, ax = plt.subplots(1, 1, figsize=(lw, lh))\n",
        "\n",
        "    # Добавлем колоноки в data_log\n",
        "    df_data = pd.DataFrame(data_log, columns=[\"put\", \"beg\", \"end\", \"wait\", \"queue\", \"order\", \"oper\"])\n",
        "\n",
        "    # Добавим время\n",
        "    df_data['t_put'] = pd.to_datetime((df_data['put']).astype('int'), unit='m')\n",
        "    df_data['t_beg'] = pd.to_datetime((df_data['beg']).astype('int'), unit='m')\n",
        "    df_data['t_end'] = pd.to_datetime((df_data['end']).astype('int'), unit='m')\n",
        "\n",
        "    orders = sorted(list(set(df_data[\"order\"])))\n",
        "    opers = sorted(list(set(df_data[\"oper\"])))\n",
        "\n",
        "    colors = []\n",
        "    for i in enumerate(opers):\n",
        "        colors.append(f\"C{i[0]}\")\n",
        "\n",
        "    lim_min = pd.to_datetime((df_data['beg'].min()), unit='m')\n",
        "    lim_max = pd.to_datetime((df_data['beg'].max()), unit='m')\n",
        "\n",
        "    # График с заявками\n",
        "    for j, order in enumerate(orders): # для каждой заявки\n",
        "        for i, oper in enumerate(opers): # для каждого события\n",
        "            # Нанесем на график начальную и конечную точки\n",
        "            for k in df_data[(df_data[\"order\"]==order) & (df_data[\"oper\"]==oper)].index:\n",
        "                    ax.plot([df_data[\"t_beg\"][k], df_data[\"t_end\"][k]], [j, j],\n",
        "                             colors[i], solid_capstyle=\"butt\", lw=20, alpha=0.9)\n",
        "\n",
        "\n",
        "    lines = [Line2D([0], [0], lw=lw, color=colors[i]) for i in range(len(opers))]\n",
        "    ax.legend(lines, opers, bbox_to_anchor=(1.05, 1.0), loc=\"upper left\")\n",
        "\n",
        "    ax.set_title(\"Диаграмма Ганта\")\n",
        "    ax.set_yticks(range(len(orders)))\n",
        "    ax.set_yticklabels(orders)\n",
        "\n",
        "gant(data_log)"
      ],
      "metadata": {
        "colab": {
          "base_uri": "https://localhost:8080/",
          "height": 314
        },
        "id": "n_jBT1zarIp0",
        "outputId": "3656ae71-0674-4a48-be99-2fcfa6b94ae2"
      },
      "execution_count": null,
      "outputs": [
        {
          "output_type": "display_data",
          "data": {
            "text/plain": [
              "<Figure size 800x300 with 1 Axes>"
            ],
            "image/png": "[encoded data removed]"
          },
          "metadata": {}
        }
      ]
    }
  ]
}