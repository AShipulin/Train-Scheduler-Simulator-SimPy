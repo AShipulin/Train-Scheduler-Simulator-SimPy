{
  "nbformat": 4,
  "nbformat_minor": 0,
  "metadata": {
    "colab": {
      "provenance": [],
      "toc_visible": true,
      "cell_execution_strategy": "setup",
      "authorship_tag": "ABX9TyPDi5nSy8R11GDPrGfD1spD",
      "include_colab_link": true
    },
    "kernelspec": {
      "name": "python3",
      "display_name": "Python 3"
    },
    "language_info": {
      "name": "python"
    }
  },
  "cells": [
    {
      "cell_type": "markdown",
      "metadata": {
        "id": "view-in-github",
        "colab_type": "text"
      },
      "source": [
        "<a href=\"https://colab.research.google.com/github/AShipulin/Train-Scheduler-Simulator-SimPy/blob/main/TrainSchedule.ipynb\" target=\"_parent\"><img src=\"https://colab.research.google.com/assets/colab-badge.svg\" alt=\"Open In Colab\"/></a>"
      ]
    },
    {
      "cell_type": "markdown",
      "source": [
        "# График движения поездов\n",
        "\n",
        "График движения поездов строится с использованием дискретно-событийного имитационного моделирования.\n",
        "\n",
        "Для построения используется библиотека SimPy.\n",
        "В библиотеке существую \"общие ресурсы\" (PriorityResource), что подходит для принципов построения.\n",
        "\n",
        "SimPy. Discrete event simulation for Python\n",
        "* https://simpy.readthedocs.io/en/latest/\n",
        "* https://pypi.org/project/simpy/\n",
        "* https://gitlab.com/team-simpy/simpy/"
      ],
      "metadata": {
        "id": "RyuTIyWVLM05"
      }
    },
    {
      "cell_type": "markdown",
      "source": [
        "## Установка simpy и необходимых библиотк"
      ],
      "metadata": {
        "id": "Am2BORSwV0D-"
      }
    },
    {
      "cell_type": "code",
      "execution_count": 3,
      "metadata": {
        "colab": {
          "base_uri": "https://localhost:8080/"
        },
        "id": "UAmBnQ0XIwEk",
        "outputId": "9157bb39-91fe-4d92-8eb8-15b6aa52ca55"
      },
      "outputs": [
        {
          "output_type": "stream",
          "name": "stdout",
          "text": [
            "Collecting simpy\n",
            "  Downloading simpy-4.1.1-py3-none-any.whl (27 kB)\n",
            "Installing collected packages: simpy\n",
            "Successfully installed simpy-4.1.1\n"
          ]
        }
      ],
      "source": [
        "!pip install -U simpy\n",
        "import simpy\n",
        "import pandas as pd\n",
        "from matplotlib import pyplot as plt"
      ]
    },
    {
      "cell_type": "markdown",
      "source": [
        "## Орисовываем построенный график движения поездов"
      ],
      "metadata": {
        "id": "mnymwibxwO1i"
      }
    },
    {
      "cell_type": "code",
      "source": [
        "# Строим график движения поездов\n",
        "def gts(data_log, data):\n",
        "\n",
        "    df = pd.DataFrame(data_log, columns=[\"train\", \"s_beg\", \"s_end\", \"t_beg\", \"t_end\"])\n",
        "    ts = pd.DataFrame(data, columns=[\"train\", \"s\", \"t\"])\n",
        "\n",
        "\n",
        "    t = ts[(ts['train'] == 2001)]\n",
        "    y = t[\"s\"]\n",
        "    x = t[\"t\"]\n",
        "    plt.plot(x, y, label='2001')\n",
        "    plt.legend()\n",
        "\n",
        "    t = ts[(ts['train'] == 2002)]\n",
        "    y = t[\"s\"]\n",
        "    x = t[\"t\"]\n",
        "    plt.plot(x, y, label='2002')\n",
        "    plt.legend()\n",
        "\n",
        "    plt.xlabel('x время')\n",
        "    plt.ylabel('y станции')\n",
        "    plt.title(\"График движения\")\n",
        "\n",
        "#gts(data_log, data)"
      ],
      "metadata": {
        "id": "zcHYHm2JAPBI"
      },
      "execution_count": 4,
      "outputs": []
    },
    {
      "cell_type": "code",
      "source": [
        "# Функция сбора логов по ресурсу\n",
        "def queue_logger(resource, t_step=1):\n",
        "    while True:\n",
        "        # Каждый так добавляем\n",
        "        item = (\n",
        "            env.now, # Текущее время\n",
        "            resource.count, # Использованное число ресурсов\n",
        "            len(resource.queue) # Дина очереди\n",
        "        )\n",
        "        queue_log.append(item)\n",
        "        # len(manager.queue) - длина очери\n",
        "        # manager.count - число задействованых менеджеров\n",
        "        yield env.timeout(t_step)"
      ],
      "metadata": {
        "id": "1qaoPeNWCtnE"
      },
      "execution_count": 5,
      "outputs": []
    },
    {
      "cell_type": "code",
      "source": [
        "# Функция завершения интервала по рассписанию\n",
        "# Интервал длиться долше чем операция с поездом,\n",
        "# поэтому завершаем за его границами\n",
        "def queue_exec(t_step=1):\n",
        "    while True:\n",
        "        for i in range(len(intScr)):\n",
        "            if (intScr[i][0] == env.now):\n",
        "                resInt1 = intScr[i][1]\n",
        "                reqInt1 = intScr[i][2]\n",
        "                resInt1.release(reqInt1)\n",
        "        yield env.timeout(t_step)"
      ],
      "metadata": {
        "id": "-tztx-SqwpjC"
      },
      "execution_count": 6,
      "outputs": []
    },
    {
      "cell_type": "markdown",
      "source": [
        "## Вводные\n",
        "\n",
        "Полуавтоблокирка - повзовляет отправлять только один поезд на путь перегона\n",
        "в попутном направлении, при этом должен выполняться интервал попутного следования."
      ],
      "metadata": {
        "id": "4fI8R-2sx6ok"
      }
    },
    {
      "cell_type": "markdown",
      "source": [
        "## Станционные интервалы"
      ],
      "metadata": {
        "id": "xsr0_hYTNXt7"
      }
    },
    {
      "cell_type": "markdown",
      "source": [
        "Однопутный участок из четырех станйий s1,...s4 и трех перегонов p1, p2, p3\n",
        "оброудованых полуавтоблокировкой*. На встречу одноврменно отправляется два поезда."
      ],
      "metadata": {
        "id": "XoaeWsIhNhhy"
      }
    },
    {
      "cell_type": "markdown",
      "source": [
        "### Задача 1. Интервал срещения\n",
        "\n",
        "\n",
        "Необходимо обспечить выполнение интервала скрщения поездов при встрече поездов.\n",
        "Время хода поездов по перегонам 10 минут, не учитвается разгон и замедление.\n",
        "Интервал срещения 1 минута.\n",
        "\n",
        "\n",
        "В будщем нудно учесть:\n",
        "- Время на рзгон\n",
        "- Время на замеделение\n",
        "- Приоритеты очередности поездов\n",
        "- Дифиренсацию интервла разных категорий поездов\n",
        "- Количесто путей на станции для четных / нечетных поездов\n",
        "\n",
        "\n",
        "```\n",
        "-> Чет.              Неч. <-\n",
        "\n",
        "Поеезд 2002 ->  <- Поезд 2001\n",
        "\n",
        "s0       s1       s2       s3\n",
        "|--------|--------|--------|\n",
        "    p0       p1       p2\n",
        "is00    is10     is20     is30\n",
        "is01    is11     is21     is31\n",
        "```"
      ],
      "metadata": {
        "id": "fK6lAAEJuW9m"
      }
    },
    {
      "cell_type": "markdown",
      "source": [
        "![image.png](data:image/png;base64,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)"
      ],
      "metadata": {
        "id": "lMeP-mB5Vn69"
      }
    },
    {
      "cell_type": "code",
      "source": [
        "# Списки для сбора метрик\n",
        "data = []\n",
        "intScr = []\n",
        "data_log = []\n",
        "queue_log = []\n",
        "\n",
        "# Получаем среду\n",
        "env = simpy.Environment()\n",
        "\n",
        "# Станци (не использовал)\n",
        "s1 = simpy.PriorityResource(env, capacity=5)\n",
        "s2 = simpy.PriorityResource(env, capacity=3)\n",
        "s3 = simpy.PriorityResource(env, capacity=3)\n",
        "s4 = simpy.PriorityResource(env, capacity=5)\n",
        "\n",
        "# Перегоны\n",
        "p1 = simpy.PriorityResource(env, capacity=1)\n",
        "p2 = simpy.PriorityResource(env, capacity=1)\n",
        "p3 = simpy.PriorityResource(env, capacity=1)\n",
        "\n",
        "# Интервал скрещения в четном напрвлении\n",
        "is00 = simpy.PriorityResource(env, capacity=1)\n",
        "is10 = simpy.PriorityResource(env, capacity=1)\n",
        "is20 = simpy.PriorityResource(env, capacity=1)\n",
        "is30 = simpy.PriorityResource(env, capacity=1)\n",
        "\n",
        "# Интервал скрещения в нечетном напрвлении\n",
        "is01 = simpy.PriorityResource(env, capacity=1)\n",
        "is11 = simpy.PriorityResource(env, capacity=1)\n",
        "is21 = simpy.PriorityResource(env, capacity=1)\n",
        "is31 = simpy.PriorityResource(env, capacity=1)\n",
        "\n",
        "resP = [p1, p2, p3]\n",
        "resI = ([is00, is10, is20, is30],\n",
        "        [is01, is11, is21, is31])\n",
        "\n",
        "def operP0(name, env, resP, resI, wait, prio, p):\n",
        "\n",
        "    s_beg = p\n",
        "    s_end = p+1\n",
        "    resPer = resP[p]\n",
        "    resInt1 = resI[1][s_beg]\n",
        "    resInt0 = resI[0][s_beg+1]\n",
        "\n",
        "    # Занимаем интервал\n",
        "    reqInt0 = resInt0.request(priority=-1)\n",
        "\n",
        "    # Ждем особождения перегона\n",
        "    # Ждем осовобождения интервала\n",
        "    with (resPer.request(priority=prio) as reqPer,\n",
        "          resInt1.request(priority=prio) as reqInt1):\n",
        "        yield reqPer & reqInt1\n",
        "\n",
        "        # Начало занятия перегона\n",
        "        beg = env.now\n",
        "        data.append([name, s_beg, env.now])\n",
        "\n",
        "        # Едем по прегону\n",
        "        yield env.timeout(10)\n",
        "\n",
        "        # Конец занятия перегона\n",
        "        #print(name, s_beg, s_end, beg, env.now)\n",
        "        data_log.append([name, s_beg, s_end, beg, env.now])\n",
        "        data.append([name, s_end, env.now])\n",
        "\n",
        "        # Регестрируем время особождения интервала\n",
        "        intScr.append([env.now+1, resInt0, reqInt0])\n",
        "\n",
        "def opP1(name, env, resP, resI, wait, prio, p):\n",
        "\n",
        "    s_beg = p+1\n",
        "    s_end = p\n",
        "    resPer = resP[p]\n",
        "    resInt0 = resI[0][s_beg]\n",
        "    resInt1 = resI[1][s_beg-1]\n",
        "\n",
        "    # Занимаем интервал\n",
        "    reqInt1 = resInt1.request(priority=-1)\n",
        "    #print('Интервал занятие', resInt1, reqInt1)\n",
        "\n",
        "    # Ждем особождения перегона\n",
        "    # Ждем осовобождения интервала\n",
        "    with (resPer.request(priority=prio) as reqPer,\n",
        "          resInt0.request(priority=prio) as reqInt0) :\n",
        "        yield reqPer & reqInt0\n",
        "\n",
        "        # Начало занятия перегона\n",
        "        beg = env.now\n",
        "        data.append([name, s_beg, env.now])\n",
        "\n",
        "        # Едем по прегону\n",
        "        yield env.timeout(10)\n",
        "\n",
        "        # Конец занятия перегона\n",
        "        #print(name, s_beg, s_end, beg, env.now)\n",
        "        data_log.append([name, s_beg, s_end, beg, env.now])\n",
        "        data.append([name, s_end, env.now])\n",
        "\n",
        "        # Регестрируем время особождения интервала\n",
        "        intScr.append([env.now+1, resInt1, reqInt1])\n",
        "\n",
        "# Четный поезд\n",
        "def train0(name, env, resP, resI, wait, prio):\n",
        "\n",
        "    op0 = env.process(operP0(name, env, resP, resI, 0, prio=5, p=0))\n",
        "    yield op0\n",
        "    op1 = env.process(operP0(name, env, resP, resI, 0, prio=5, p=1))\n",
        "    yield op1\n",
        "    op2 = env.process(operP0(name, env, resP, resI, 0, prio=5, p=2))\n",
        "    yield op2\n",
        "\n",
        "# Нечетный поезд\n",
        "def train1(name, env, resP, resI, wait, prio):\n",
        "\n",
        "    op0 = env.process(opP1(name, env, resP, resI, 0, prio=10, p=2))\n",
        "    yield op0\n",
        "    op1 = env.process(opP1(name, env, resP, resI, 0, prio=10, p=1))\n",
        "    yield op1\n",
        "    op2 = env.process(opP1(name, env, resP, resI, 0, prio=10, p=0))\n",
        "    yield op2\n",
        "\n",
        "# Запускаем процесс логирования\n",
        "#env.process(queue_logger(is11))\n",
        "\n",
        "# Запускаем процесс завершения интервалов\n",
        "env.process(queue_exec())\n",
        "\n",
        "# Запускаем одноврменно поезда\n",
        "t2001 = env.process(train1(2001, env, resP, resI, 0, prio=0))\n",
        "t2002 = env.process(train0(2002, env, resP, resI, 0, prio=0))\n",
        "\n",
        "# Выполняем расчет\n",
        "env.run(until=60)\n",
        "\n",
        "# Выводим график\n",
        "gts(data_log, data)\n",
        "\n",
        "# Отлада. Смотрим занятость от интервала\n",
        "#queue_df = pd.DataFrame(queue_log, columns=[\"time\", \"queue count\" , \"queue length\"] )\n",
        "#from matplotlib import pyplot as plt\n",
        "#plt.stairs(queue_df[\"queue count\"], hatch='x')"
      ],
      "metadata": {
        "id": "hxQTd7sKI77I",
        "colab": {
          "base_uri": "https://localhost:8080/",
          "height": 680
        },
        "outputId": "b7a3033d-9db7-4b88-c53f-5f72b24e6cd0"
      },
      "execution_count": 10,
      "outputs": [
        {
          "output_type": "execute_result",
          "data": {
            "text/plain": [
              "[[2001, 3, 0],\n",
              " [2002, 0, 0],\n",
              " [2001, 2, 10],\n",
              " [2002, 1, 10],\n",
              " [2001, 2, 10],\n",
              " [2001, 1, 20],\n",
              " [2001, 1, 20],\n",
              " [2002, 1, 21],\n",
              " [2001, 0, 30],\n",
              " [2002, 2, 31],\n",
              " [2002, 2, 31],\n",
              " [2002, 3, 41]]"
            ]
          },
          "metadata": {},
          "execution_count": 10
        },
        {
          "output_type": "display_data",
          "data": {
            "text/plain": [
              "<Figure size 640x480 with 1 Axes>"
            ],
            "image/png": "[encoded data removed]"
          },
          "metadata": {}
        }
      ]
    }
  ]
}