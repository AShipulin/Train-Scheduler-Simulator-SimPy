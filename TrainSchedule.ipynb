{
  "nbformat": 4,
  "nbformat_minor": 0,
  "metadata": {
    "colab": {
      "provenance": [],
      "toc_visible": true,
      "cell_execution_strategy": "setup",
      "authorship_tag": "ABX9TyPCDKLgHEh/H+OEGN5xUphR",
      "include_colab_link": true
    },
    "kernelspec": {
      "name": "python3",
      "display_name": "Python 3"
    },
    "language_info": {
      "name": "python"
    }
  },
  "cells": [
    {
      "cell_type": "markdown",
      "metadata": {
        "id": "view-in-github",
        "colab_type": "text"
      },
      "source": [
        "<a href=\"https://colab.research.google.com/github/AShipulin/Train-Scheduler-Simulator-SimPy/blob/main/TrainSchedule.ipynb\" target=\"_parent\"><img src=\"https://colab.research.google.com/assets/colab-badge.svg\" alt=\"Open In Colab\"/></a>"
      ]
    },
    {
      "cell_type": "markdown",
      "source": [
        "# График движения поездов\n",
        "\n",
        "График движения поездов строится с использованием дискретно-событийного имитационного моделирования.\n",
        "\n",
        "Для построения используется библиотека SimPy.\n",
        "В библиотеке существую \"общие ресурсы\" (PriorityResource), что подходит для принципов построения.\n",
        "\n",
        "SimPy. Discrete event simulation for Python\n",
        "* https://simpy.readthedocs.io/en/latest/\n",
        "* https://pypi.org/project/simpy/\n",
        "* https://gitlab.com/team-simpy/simpy/"
      ],
      "metadata": {
        "id": "RyuTIyWVLM05"
      }
    },
    {
      "cell_type": "markdown",
      "source": [
        "## Установка simpy и необходимых библиотк"
      ],
      "metadata": {
        "id": "Am2BORSwV0D-"
      }
    },
    {
      "cell_type": "code",
      "execution_count": 1,
      "metadata": {
        "colab": {
          "base_uri": "https://localhost:8080/"
        },
        "id": "UAmBnQ0XIwEk",
        "outputId": "1d798e74-011b-445a-ca53-7820e20a8175"
      },
      "outputs": [
        {
          "output_type": "stream",
          "name": "stdout",
          "text": [
            "Collecting simpy\n",
            "  Downloading simpy-4.1.1-py3-none-any.whl (27 kB)\n",
            "Installing collected packages: simpy\n",
            "Successfully installed simpy-4.1.1\n"
          ]
        }
      ],
      "source": [
        "!pip install -U simpy\n",
        "import simpy\n",
        "import pandas as pd\n",
        "from matplotlib import pyplot as plt"
      ]
    },
    {
      "cell_type": "markdown",
      "source": [
        "## Орисовываем построенный график движения поездов"
      ],
      "metadata": {
        "id": "mnymwibxwO1i"
      }
    },
    {
      "cell_type": "code",
      "source": [
        "# Орисовываем построенный график движения поездов\n",
        "def gts(trainSchedule):\n",
        "\n",
        "    #df = pd.DataFrame(data_log, columns=[\"train\", \"s_beg\", \"s_end\", \"t_beg\", \"t_end\"])\n",
        "\n",
        "    # Добавим имена колонок\n",
        "    df_trainSchedule = pd.DataFrame(trainSchedule, columns=[\"train\", \"sta\", \"time\"])\n",
        "\n",
        "    # Создайте фигуру, содержащую одну ось\n",
        "    fig, ax = plt.subplots()\n",
        "\n",
        "    # Оси времени\n",
        "    time_max = df_trainSchedule['time'].max()\n",
        "    for i in range(10, time_max, 10):\n",
        "        if i%30 > 0:\n",
        "            ax.axvline(x=i, linestyle='--', linewidth=1)\n",
        "    for i in range(30, time_max, 30):\n",
        "        if i%60 > 0:\n",
        "            ax.axvline(x=i, linestyle='-.', linewidth=1)\n",
        "    for i in range(0, time_max, 60):\n",
        "        ax.axvline(x=i, linestyle='-')\n",
        "\n",
        "    # Оси станций\n",
        "    df_sta = df_trainSchedule.drop_duplicates(subset=['sta'])\n",
        "    plt.yticks(df_sta['sta'])\n",
        "    for index, row in df_sta.iterrows():\n",
        "        ax.axhline(y=row['sta'])\n",
        "\n",
        "    # Подписи\n",
        "    plt.xlabel('Время, x')\n",
        "    plt.ylabel('Станции, y')\n",
        "    plt.title(\"График движения поездов\")\n",
        "\n",
        "    # Отключаем линии\n",
        "    for sp in ['top', 'bottom', 'right', 'left']:\n",
        "        ax.spines[sp].set_visible(False)\n",
        "\n",
        "    # Рисуем нитки поездов\n",
        "    df_train = df_trainSchedule.groupby(['train']).first()\n",
        "    for train, row in df_train.iterrows():\n",
        "        t = df_trainSchedule[(df_trainSchedule['train'] == train)]\n",
        "        y = t['sta']\n",
        "        x = t['time']\n",
        "        ax.plot(x, y, label = train, color='black')\n",
        "        if train%2 == 1:\n",
        "            ax.text(row['time'], row['sta']-0.3, train, rotation=-75.)\n",
        "        else:\n",
        "            ax.text(row['time']-5, row['sta'], train, rotation=75.)\n",
        "        #ax.legend()\n",
        "\n",
        "    plt.show()\n",
        "\n",
        "#gts(trainSchedule)"
      ],
      "metadata": {
        "id": "zcHYHm2JAPBI"
      },
      "execution_count": 2,
      "outputs": []
    },
    {
      "cell_type": "code",
      "source": [
        "# Функция сбора логов по ресурсу\n",
        "def queue_logger(resource, t_step=1):\n",
        "    while True:\n",
        "        # Каждый так добавляем\n",
        "        item = (\n",
        "            env.now, # Текущее время\n",
        "            resource.count, # Использованное число ресурсов\n",
        "            len(resource.queue) # Дина очереди\n",
        "        )\n",
        "        queue_log.append(item)\n",
        "        # len(manager.queue) - длина очери\n",
        "        # manager.count - число задействованых менеджеров\n",
        "        yield env.timeout(t_step)"
      ],
      "metadata": {
        "id": "1qaoPeNWCtnE"
      },
      "execution_count": 3,
      "outputs": []
    },
    {
      "cell_type": "code",
      "source": [
        "# Функция завершения интервала по рассписанию\n",
        "# Интервал длиться долше чем операция с поездом,\n",
        "# поэтому завершаем его за границами операции движения по перегону\n",
        "def queue_exec(t_step=1):\n",
        "    while True:\n",
        "        for i in range(len(intScr)):\n",
        "            if (intScr[i][0] == env.now):\n",
        "                resInt1 = intScr[i][1]\n",
        "                reqInt1 = intScr[i][2]\n",
        "                resInt1.release(reqInt1)\n",
        "        yield env.timeout(t_step)"
      ],
      "metadata": {
        "id": "-tztx-SqwpjC"
      },
      "execution_count": 4,
      "outputs": []
    },
    {
      "cell_type": "markdown",
      "source": [
        "## Вводные\n",
        "\n",
        "Полуавтоблокирка - повзовляет отправлять только один поезд на путь перегона\n",
        "в попутном направлении, при этом должен выполняться интервал попутного следования."
      ],
      "metadata": {
        "id": "4fI8R-2sx6ok"
      }
    },
    {
      "cell_type": "markdown",
      "source": [
        "## Станционные интервалы"
      ],
      "metadata": {
        "id": "xsr0_hYTNXt7"
      }
    },
    {
      "cell_type": "markdown",
      "source": [
        "Однопутный участок из четырех станйий s1,...s4 и трех перегонов p1, p2, p3\n",
        "оброудованых полуавтоблокировкой*. На встречу одноврменно отправляется два поезда."
      ],
      "metadata": {
        "id": "XoaeWsIhNhhy"
      }
    },
    {
      "cell_type": "markdown",
      "source": [
        "### Задача 1. Интервал срещения\n",
        "\n",
        "\n",
        "Необходимо обспечить выполнение интервала скрщения поездов при встрече поездов.\n",
        "Время хода поездов по перегонам 10 минут, не учитвается разгон и замедление.\n",
        "Интервал срещения 1 минута.\n",
        "\n",
        "\n",
        "В будщем нудно учесть:\n",
        "- Время на рзгон\n",
        "- Приоритеты очередности поездов\n",
        "- Дифиренсацию интервла разных категорий поездов\n",
        "- Количесто путей на станции для четных / нечетных поездов\n",
        "\n",
        "\n",
        "```\n",
        "-> Чет.              Неч. <-\n",
        "\n",
        "Поеезд 2002 ->  <- Поезд 2001\n",
        "\n",
        "s0       s1       s2       s3\n",
        "|--------|--------|--------|\n",
        "    p0       p1       p2\n",
        "is00    is10     is20     is30\n",
        "is01    is11     is21     is31\n",
        "```"
      ],
      "metadata": {
        "id": "fK6lAAEJuW9m"
      }
    },
    {
      "cell_type": "code",
      "source": [
        "# Списки для сбора метрик\n",
        "trainSchedule = [] # График двиджения поездов [Поеезд, Станция, Время]\n",
        "rwayBusy = {}\n",
        "intScr = []\n",
        "data_log = []\n",
        "queue_log = []\n",
        "\n",
        "# Получаем среду\n",
        "env = simpy.Environment()\n",
        "\n",
        "# Станци (не использовал)\n",
        "s1 = simpy.PriorityResource(env, capacity=5)\n",
        "s2 = simpy.PriorityResource(env, capacity=3)\n",
        "s3 = simpy.PriorityResource(env, capacity=3)\n",
        "s4 = simpy.PriorityResource(env, capacity=5)\n",
        "\n",
        "# Перегоны\n",
        "p1 = simpy.PriorityResource(env, capacity=1)\n",
        "p2 = simpy.PriorityResource(env, capacity=1)\n",
        "p3 = simpy.PriorityResource(env, capacity=1)\n",
        "\n",
        "# Интервал скрещения в четном напрвлении\n",
        "is00 = simpy.PriorityResource(env, capacity=1)\n",
        "is10 = simpy.PriorityResource(env, capacity=1)\n",
        "is20 = simpy.PriorityResource(env, capacity=1)\n",
        "is30 = simpy.PriorityResource(env, capacity=1)\n",
        "\n",
        "# Интервал скрещения в нечетном напрвлении\n",
        "is01 = simpy.PriorityResource(env, capacity=1)\n",
        "is11 = simpy.PriorityResource(env, capacity=1)\n",
        "is21 = simpy.PriorityResource(env, capacity=1)\n",
        "is31 = simpy.PriorityResource(env, capacity=1)\n",
        "\n",
        "resRWays = [p1, p2, p3]\n",
        "resIScrs = ([is00, is10, is20, is30],\n",
        "           [is01, is11, is21, is31])\n",
        "\n",
        "class TrainSchedule():\n",
        "\n",
        "    # Инициализация\n",
        "    def __init__(self, env, resRWays, resIScrs):\n",
        "        self.env = env\n",
        "        self.resRWays = resRWays\n",
        "        self.resIScrs = resIScrs\n",
        "\n",
        "    # Движение в чтную сторону\n",
        "    def driving0(self, train, wait, prio, rway):\n",
        "\n",
        "        sta = rway\n",
        "        staNext = rway + 1  # Следющая станция\n",
        "        rwayNext = rway + 1 # Следющий путь перегон\n",
        "\n",
        "        resRWay = self.resRWays[rway]\n",
        "        resRWayNext = self.resRWays[rwayNext] if len(resRWays) > rwayNext else None\n",
        "        resIScrs1 = self.resIScrs[1][sta]     # Проверяем\n",
        "        resIScrs0 = self.resIScrs[0][staNext] # Занимаем\n",
        "\n",
        "        # Осовбождаем перегон, если мы заняли\n",
        "        if not rwayBusy.get(rway) is None:\n",
        "            req = rwayBusy.get(rway)[2]\n",
        "            resRWay.release(req)\n",
        "\n",
        "        # Занимаем интервал\n",
        "        reqInt0 = resIScrs0.request(priority=-1)\n",
        "\n",
        "        # Ждем особождения перегона, интервала\n",
        "        with (resRWay.request(priority=prio) as reqPer,\n",
        "              resIScrs1.request(priority=prio) as reqInt1):\n",
        "            yield reqPer & reqInt1\n",
        "\n",
        "            # Начало занятия перегона\n",
        "            beg = self.env.now\n",
        "            trainSchedule.append([train, sta, env.now])\n",
        "\n",
        "            # Едем по прегону\n",
        "            yield self.env.timeout(10)\n",
        "\n",
        "            # Замедление\n",
        "            if not resRWayNext is None:\n",
        "                if resRWayNext.count > 0:\n",
        "                    yield self.env.timeout(5)\n",
        "                else:\n",
        "                    reqPerN = resRWayNext.request(priority=-1)\n",
        "                    rwayBusy[rwayNext] = [train, resRWayNext, reqPerN]\n",
        "\n",
        "            # Конец занятия перегона\n",
        "            data_log.append([train, sta, staNext, beg, self.env.now])\n",
        "            trainSchedule.append([train, staNext, self.env.now])\n",
        "\n",
        "            # Регестрируем время особождения интервала\n",
        "            intScr.append([self.env.now+1, resIScrs0, reqInt0])\n",
        "\n",
        "    # Движение в нечтную сторону\n",
        "    def driving1(self, train, wait, prio, rway):\n",
        "\n",
        "        sta = rway + 1\n",
        "        staNext = rway\n",
        "        rwayNext = rway - 1\n",
        "\n",
        "        resRWay = self.resRWays[rway]\n",
        "        resRWayNext = self.resRWays[rwayNext] if -1 < rwayNext  else None\n",
        "        resIScrs0 = self.resIScrs[0][sta]     # Проверяем\n",
        "        resIScrs1 = self.resIScrs[1][staNext] # Занимаем\n",
        "\n",
        "        # Осовбождаем перегон, если мы заняли\n",
        "        if not rwayBusy.get(rway) is None:\n",
        "            req = rwayBusy.get(rway)[2]\n",
        "            resRWay.release(req)\n",
        "\n",
        "        # Занимаем интервал\n",
        "        reqInt1 = resIScrs1.request(priority=-1)\n",
        "\n",
        "        # Ждем особождения перегона, интервала\n",
        "        with (resRWay.request(priority=prio) as reqPer,\n",
        "              resIScrs0.request(priority=prio) as reqInt0) :\n",
        "            yield reqPer & reqInt0\n",
        "\n",
        "            # Начало занятия перегона\n",
        "            beg = self.env.now\n",
        "            trainSchedule.append([train, sta, env.now])\n",
        "\n",
        "            # Едем по прегону\n",
        "            yield self.env.timeout(10)\n",
        "\n",
        "            # Замедление\n",
        "            if not resRWayNext is None:\n",
        "                if resRWayNext.count > 0:\n",
        "                    yield self.env.timeout(5)\n",
        "                else:\n",
        "                    reqPerN = resRWayNext.request(priority=-1)\n",
        "                    rwayBusy[rwayNext] = [train, resRWayNext, reqPerN]\n",
        "\n",
        "            # Конец занятия перегона\n",
        "            data_log.append([train, sta, staNext, beg, env.now])\n",
        "            trainSchedule.append([train, staNext, self.env.now])\n",
        "\n",
        "            # Регестрируем время особождения интервала\n",
        "            intScr.append([self.env.now+1, resIScrs1, reqInt1])\n",
        "\n",
        "    # Четный поезд\n",
        "    def train0(self, train, wait, prio):\n",
        "\n",
        "        yield self.env.timeout(wait)\n",
        "\n",
        "        op0 = self.env.process(self.driving0(train, wait=0, prio=10, rway=0))\n",
        "        yield op0\n",
        "        op1 = self.env.process(self.driving0(train, wait=0, prio=10, rway=1))\n",
        "        yield op1\n",
        "        op2 = self.env.process(self.driving0(train, wait=0, prio=10, rway=2))\n",
        "        yield op2\n",
        "\n",
        "    # Нечетный поезд\n",
        "    def train1(self, train, wait, prio):\n",
        "\n",
        "        yield self.env.timeout(wait)\n",
        "\n",
        "        op0 = self.env.process(self.driving1(train, wait=0, prio=10, rway=2))\n",
        "        yield op0\n",
        "        op1 = self.env.process(self.driving1(train, wait=0, prio=10, rway=1))\n",
        "        yield op1\n",
        "        op2 = self.env.process(self.driving1(train, wait=0, prio=10, rway=0))\n",
        "        yield op2\n",
        "\n",
        "# Запускаем процесс логирования\n",
        "#env.process(queue_logger(is11))\n",
        "\n",
        "# Запускаем процесс завершения интервалов\n",
        "env.process(queue_exec())\n",
        "\n",
        "ts = TrainSchedule(env, resRWays, resIScrs)\n",
        "\n",
        "# Запускаем одноврменно поезда\n",
        "t2001 = env.process(ts.train1(train=2001, wait=0, prio=0))\n",
        "t2002 = env.process(ts.train0(train=2002, wait=0, prio=0))\n",
        "t2003 = env.process(ts.train1(train=2003, wait=25, prio=0))\n",
        "#t2004 = env.process(ts.train0(train=2004, wait=25, prio=0))\n",
        "#t2005 = env.process(ts.train1(train=2005, wait=55, prio=0))\n",
        "#t2006 = env.process(ts.train0(train=2006, wait=55, prio=0))\n",
        "\n",
        "# Выполняем расчет\n",
        "env.run(until=200)\n",
        "\n",
        "# Выводим график\n",
        "gts(trainSchedule)\n",
        "\n",
        "# Отлада. Смотрим занятость от интервала\n",
        "#queue_df = pd.DataFrame(queue_log, columns=[\"time\", \"queue count\" , \"queue length\"] )\n",
        "#from matplotlib import pyplot as plt\n",
        "#plt.stairs(queue_df[\"queue count\"], hatch='x')"
      ],
      "metadata": {
        "id": "hxQTd7sKI77I",
        "colab": {
          "base_uri": "https://localhost:8080/",
          "height": 472
        },
        "outputId": "c034f88e-0e15-48b5-a792-6fc55c76561b"
      },
      "execution_count": 5,
      "outputs": [
        {
          "output_type": "display_data",
          "data": {
            "text/plain": [
              "<Figure size 640x480 with 1 Axes>"
            ],
            "image/png": "[encoded data removed]"
          },
          "metadata": {}
        }
      ]
    }
  ]
}